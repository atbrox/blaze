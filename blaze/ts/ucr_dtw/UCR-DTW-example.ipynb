{
 "metadata": {
  "name": "UCR-DTW-example"
 },
 "nbformat": 3,
 "nbformat_minor": 0,
 "worksheets": [
  {
   "cells": [
    {
     "cell_type": "heading",
     "level": 1,
     "metadata": {},
     "source": [
      "Example for finding best patter similarities by using Distance Time Warping"
     ]
    },
    {
     "cell_type": "code",
     "collapsed": false,
     "input": [
      "import os.path\n",
      "import blaze\n",
      "from blaze.ts.ucr_dtw import ucr"
     ],
     "language": "python",
     "metadata": {},
     "outputs": []
    },
    {
     "cell_type": "heading",
     "level": 2,
     "metadata": {},
     "source": [
      "Some conversion code from text files into native Blaze format"
     ]
    },
    {
     "cell_type": "code",
     "collapsed": false,
     "input": [
      "# Convert txt file into Blaze native format (if it is not yet)\n",
      "def convert(filetxt, storage):\n",
      "    if not os.path.exists(storage):\n",
      "        blaze.Array(np.loadtxt(filetxt),\n",
      "                    params=blaze.params(storage=storage))"
     ],
     "language": "python",
     "metadata": {},
     "outputs": []
    },
    {
     "cell_type": "code",
     "collapsed": false,
     "input": [
      "# Make sure that data is converted into a persistent Blaze array\n",
      "convert(\"Data.txt\", \"Data\")\n",
      "convert(\"Query.txt\", \"Query\")\n",
      "convert(\"Query2.txt\", \"Query2\")"
     ],
     "language": "python",
     "metadata": {},
     "outputs": []
    },
    {
     "cell_type": "heading",
     "level": 2,
     "metadata": {},
     "source": [
      "Open Blaze array on-disk"
     ]
    },
    {
     "cell_type": "code",
     "collapsed": false,
     "input": [
      "# Open Blaze arrays on-disk (will not be loaded in memory)\n",
      "data = blaze.open(\"Data\")\n",
      "query = blaze.open(\"Query\")\n",
      "query2 = blaze.open(\"Query2\")"
     ],
     "language": "python",
     "metadata": {},
     "outputs": []
    },
    {
     "cell_type": "heading",
     "level": 2,
     "metadata": {},
     "source": [
      "Find the best similarities using DTW or ED (Euclidena Distance) algorithms"
     ]
    },
    {
     "cell_type": "code",
     "collapsed": false,
     "input": [
      "# Play with different methods & parameters here...\n",
      "#%time loc, dist = ucr.ed(data, query, 128)\n",
      "%time loc, dist = ucr.dtw(data, query, 0.1, 128, verbose=False)\n",
      "#%time loc, dist = ucr.dtw(data, query2, 0.1, 128)"
     ],
     "language": "python",
     "metadata": {},
     "outputs": []
    },
    {
     "cell_type": "markdown",
     "metadata": {},
     "source": [
      "Notice that times here can be up to 4x than the original code based on text files.\n",
      "Blaze format is fast to read!"
     ]
    },
    {
     "cell_type": "code",
     "collapsed": false,
     "input": [
      "print \"Location : \", loc\n",
      "print \"Distance : \", dist\n",
      "print \"Data Scanned : \", data.size"
     ],
     "language": "python",
     "metadata": {},
     "outputs": []
    },
    {
     "cell_type": "heading",
     "level": 2,
     "metadata": {},
     "source": [
      "Check that patterns are really similar"
     ]
    },
    {
     "cell_type": "code",
     "collapsed": false,
     "input": [
      "plot(data[loc:loc+128])"
     ],
     "language": "python",
     "metadata": {},
     "outputs": []
    },
    {
     "cell_type": "code",
     "collapsed": false,
     "input": [
      "plot(query[:])"
     ],
     "language": "python",
     "metadata": {},
     "outputs": []
    },
    {
     "cell_type": "code",
     "collapsed": false,
     "input": [],
     "language": "python",
     "metadata": {},
     "outputs": []
    }
   ],
   "metadata": {}
  }
 ]
}